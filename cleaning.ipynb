{
 "cells": [
  {
   "cell_type": "code",
   "execution_count": 2,
   "metadata": {},
   "outputs": [],
   "source": [
    "import numpy as np\n",
    "import pandas as pd\n",
    "import re\n",
    "import csv"
   ]
  },
  {
   "cell_type": "code",
   "execution_count": 24,
   "metadata": {},
   "outputs": [],
   "source": [
    "df=pd.read_csv(f\"./CSVs/2017.csv\")\n",
    "# select all columns except first\n",
    "df=df.iloc[:,1:]"
   ]
  },
  {
   "cell_type": "code",
   "execution_count": 28,
   "metadata": {},
   "outputs": [
    {
     "data": {
      "text/html": [
       "<div>\n",
       "<style scoped>\n",
       "    .dataframe tbody tr th:only-of-type {\n",
       "        vertical-align: middle;\n",
       "    }\n",
       "\n",
       "    .dataframe tbody tr th {\n",
       "        vertical-align: top;\n",
       "    }\n",
       "\n",
       "    .dataframe thead th {\n",
       "        text-align: right;\n",
       "    }\n",
       "</style>\n",
       "<table border=\"1\" class=\"dataframe\">\n",
       "  <thead>\n",
       "    <tr style=\"text-align: right;\">\n",
       "      <th></th>\n",
       "      <th>KUCAT ID</th>\n",
       "      <th>Name</th>\n",
       "      <th>CBT Score</th>\n",
       "      <th>Program Applied</th>\n",
       "    </tr>\n",
       "  </thead>\n",
       "  <tbody>\n",
       "    <tr>\n",
       "      <th>0</th>\n",
       "      <td>KUCAT_2017_1</td>\n",
       "      <td>Shree Kaji Ghimire</td>\n",
       "      <td>10105030</td>\n",
       "      <td>BE in Mechanical Engineering(Automobile)</td>\n",
       "    </tr>\n",
       "    <tr>\n",
       "      <th>1</th>\n",
       "      <td>KUCAT_2017_2</td>\n",
       "      <td>Astitwa Mademba</td>\n",
       "      <td>705080</td>\n",
       "      <td>BE in Mechanical Engineering(Automobile)</td>\n",
       "    </tr>\n",
       "    <tr>\n",
       "      <th>2</th>\n",
       "      <td>KUCAT_2017_4</td>\n",
       "      <td>Raphim Shrestha</td>\n",
       "      <td>10105050</td>\n",
       "      <td>BE in Civil Engineering (Specialization in Hyd...</td>\n",
       "    </tr>\n",
       "    <tr>\n",
       "      <th>3</th>\n",
       "      <td>KUCAT_2017_5</td>\n",
       "      <td>Ashok Adhikari</td>\n",
       "      <td>805030</td>\n",
       "      <td>BE in Chemical Engineering</td>\n",
       "    </tr>\n",
       "    <tr>\n",
       "      <th>4</th>\n",
       "      <td>KUCAT_2017_7</td>\n",
       "      <td>David Prajapati</td>\n",
       "      <td>901080</td>\n",
       "      <td>BE in Computer Engineering</td>\n",
       "    </tr>\n",
       "    <tr>\n",
       "      <th>...</th>\n",
       "      <td>...</td>\n",
       "      <td>...</td>\n",
       "      <td>...</td>\n",
       "      <td>...</td>\n",
       "    </tr>\n",
       "    <tr>\n",
       "      <th>3067</th>\n",
       "      <td>KUCAT_2017_3854</td>\n",
       "      <td>Rahul Kumar Yadav</td>\n",
       "      <td>506020</td>\n",
       "      <td>BE in Civil Engineering (Specialization in Hyd...</td>\n",
       "    </tr>\n",
       "    <tr>\n",
       "      <th>3068</th>\n",
       "      <td>KUCAT_2017_3855</td>\n",
       "      <td>Bimal Adhikari</td>\n",
       "      <td>709040</td>\n",
       "      <td>BE in Computer Engineering</td>\n",
       "    </tr>\n",
       "    <tr>\n",
       "      <th>3069</th>\n",
       "      <td>KUCAT_2017_3856</td>\n",
       "      <td>Niharika Singh</td>\n",
       "      <td>700030</td>\n",
       "      <td>BE in Computer Engineering</td>\n",
       "    </tr>\n",
       "    <tr>\n",
       "      <th>3070</th>\n",
       "      <td>KUCAT_2017_3857</td>\n",
       "      <td>Paribesh Shrestha</td>\n",
       "      <td>709060</td>\n",
       "      <td>BE in Civil Engineering (Specialization in Hyd...</td>\n",
       "    </tr>\n",
       "    <tr>\n",
       "      <th>3071</th>\n",
       "      <td>KUCAT_2017_3858</td>\n",
       "      <td>Biraj Ghimire</td>\n",
       "      <td>608080</td>\n",
       "      <td>BE in Electrical &amp; Electronic Engineering (Com...</td>\n",
       "    </tr>\n",
       "  </tbody>\n",
       "</table>\n",
       "<p>3072 rows × 4 columns</p>\n",
       "</div>"
      ],
      "text/plain": [
       "             KUCAT ID                Name  CBT Score  \\\n",
       "0        KUCAT_2017_1  Shree Kaji Ghimire   10105030   \n",
       "1        KUCAT_2017_2     Astitwa Mademba     705080   \n",
       "2        KUCAT_2017_4     Raphim Shrestha   10105050   \n",
       "3        KUCAT_2017_5      Ashok Adhikari     805030   \n",
       "4        KUCAT_2017_7     David Prajapati     901080   \n",
       "...               ...                 ...        ...   \n",
       "3067  KUCAT_2017_3854   Rahul Kumar Yadav     506020   \n",
       "3068  KUCAT_2017_3855      Bimal Adhikari     709040   \n",
       "3069  KUCAT_2017_3856      Niharika Singh     700030   \n",
       "3070  KUCAT_2017_3857   Paribesh Shrestha     709060   \n",
       "3071  KUCAT_2017_3858       Biraj Ghimire     608080   \n",
       "\n",
       "                                        Program Applied  \n",
       "0              BE in Mechanical Engineering(Automobile)  \n",
       "1              BE in Mechanical Engineering(Automobile)  \n",
       "2     BE in Civil Engineering (Specialization in Hyd...  \n",
       "3                            BE in Chemical Engineering  \n",
       "4                            BE in Computer Engineering  \n",
       "...                                                 ...  \n",
       "3067  BE in Civil Engineering (Specialization in Hyd...  \n",
       "3068                         BE in Computer Engineering  \n",
       "3069                         BE in Computer Engineering  \n",
       "3070  BE in Civil Engineering (Specialization in Hyd...  \n",
       "3071  BE in Electrical & Electronic Engineering (Com...  \n",
       "\n",
       "[3072 rows x 4 columns]"
      ]
     },
     "execution_count": 28,
     "metadata": {},
     "output_type": "execute_result"
    }
   ],
   "source": [
    "df=df.drop(columns=[\"Exam Type\"],axis=1)\n"
   ]
  },
  {
   "cell_type": "code",
   "execution_count": 22,
   "metadata": {},
   "outputs": [
    {
     "data": {
      "text/plain": [
       "array([ True,  True, False,  True,  True])"
      ]
     },
     "execution_count": 22,
     "metadata": {},
     "output_type": "execute_result"
    }
   ],
   "source": []
  },
  {
   "cell_type": "code",
   "execution_count": null,
   "metadata": {},
   "outputs": [],
   "source": []
  }
 ],
 "metadata": {
  "kernelspec": {
   "display_name": "Python 3",
   "language": "python",
   "name": "python3"
  },
  "language_info": {
   "codemirror_mode": {
    "name": "ipython",
    "version": 3
   },
   "file_extension": ".py",
   "mimetype": "text/x-python",
   "name": "python",
   "nbconvert_exporter": "python",
   "pygments_lexer": "ipython3",
   "version": "3.11.5"
  },
  "orig_nbformat": 4
 },
 "nbformat": 4,
 "nbformat_minor": 2
}
