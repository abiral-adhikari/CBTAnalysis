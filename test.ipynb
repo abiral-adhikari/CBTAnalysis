{
 "cells": [
  {
   "cell_type": "code",
   "execution_count": 1,
   "metadata": {},
   "outputs": [],
   "source": [
    "import pandas as pd\n",
    "import numpy as np\n",
    "from matplotlib import pyplot as plt\n"
   ]
  },
  {
   "cell_type": "code",
   "execution_count": 2,
   "metadata": {},
   "outputs": [],
   "source": [
    "year=\"2023\"\n",
    "filepath=f'.\\Clean CSVs\\{year}.csv'\n",
    "df=pd.read_csv(filepath)\n",
    "# select all columns except first\n",
    "df=df.iloc[:,1:]"
   ]
  },
  {
   "cell_type": "code",
   "execution_count": 3,
   "metadata": {},
   "outputs": [
    {
     "data": {
      "text/html": [
       "<div>\n",
       "<style scoped>\n",
       "    .dataframe tbody tr th:only-of-type {\n",
       "        vertical-align: middle;\n",
       "    }\n",
       "\n",
       "    .dataframe tbody tr th {\n",
       "        vertical-align: top;\n",
       "    }\n",
       "\n",
       "    .dataframe thead th {\n",
       "        text-align: right;\n",
       "    }\n",
       "</style>\n",
       "<table border=\"1\" class=\"dataframe\">\n",
       "  <thead>\n",
       "    <tr style=\"text-align: right;\">\n",
       "      <th></th>\n",
       "      <th>KUCBT ID</th>\n",
       "      <th>Name</th>\n",
       "      <th>Score</th>\n",
       "      <th>Program</th>\n",
       "    </tr>\n",
       "  </thead>\n",
       "  <tbody>\n",
       "    <tr>\n",
       "      <th>0</th>\n",
       "      <td>KUCAT_2023_1</td>\n",
       "      <td>Shreeyut Thapa</td>\n",
       "      <td>1224</td>\n",
       "      <td>CE</td>\n",
       "    </tr>\n",
       "    <tr>\n",
       "      <th>1</th>\n",
       "      <td>KUCAT_2023_2</td>\n",
       "      <td>Kiyoshi Pandey</td>\n",
       "      <td>672</td>\n",
       "      <td>CE</td>\n",
       "    </tr>\n",
       "    <tr>\n",
       "      <th>2</th>\n",
       "      <td>KUCAT_2023_3</td>\n",
       "      <td>Anmol Kumar Yadav</td>\n",
       "      <td>622</td>\n",
       "      <td>Geo</td>\n",
       "    </tr>\n",
       "    <tr>\n",
       "      <th>3</th>\n",
       "      <td>KUCAT_2023_4</td>\n",
       "      <td>Shailesh Paudel</td>\n",
       "      <td>578</td>\n",
       "      <td>CE</td>\n",
       "    </tr>\n",
       "    <tr>\n",
       "      <th>4</th>\n",
       "      <td>KUCAT_2023_5</td>\n",
       "      <td>Yubraj Panthi</td>\n",
       "      <td>674</td>\n",
       "      <td>Civil</td>\n",
       "    </tr>\n",
       "    <tr>\n",
       "      <th>...</th>\n",
       "      <td>...</td>\n",
       "      <td>...</td>\n",
       "      <td>...</td>\n",
       "      <td>...</td>\n",
       "    </tr>\n",
       "    <tr>\n",
       "      <th>2258</th>\n",
       "      <td>KUCAT_2023_3208</td>\n",
       "      <td>Sabin Shrees</td>\n",
       "      <td>578</td>\n",
       "      <td>Civil</td>\n",
       "    </tr>\n",
       "    <tr>\n",
       "      <th>2259</th>\n",
       "      <td>KUCAT_2023_3210</td>\n",
       "      <td>Lajjita Bhaa</td>\n",
       "      <td>587</td>\n",
       "      <td>Arch</td>\n",
       "    </tr>\n",
       "    <tr>\n",
       "      <th>2260</th>\n",
       "      <td>KUCAT_2023_3211</td>\n",
       "      <td>Anup Khanal</td>\n",
       "      <td>731</td>\n",
       "      <td>CE</td>\n",
       "    </tr>\n",
       "    <tr>\n",
       "      <th>2261</th>\n",
       "      <td>KUCAT_2023_3212</td>\n",
       "      <td>Prasoon Dahal</td>\n",
       "      <td>821</td>\n",
       "      <td>CE</td>\n",
       "    </tr>\n",
       "    <tr>\n",
       "      <th>2262</th>\n",
       "      <td>KUCAT_2023_3214</td>\n",
       "      <td>Kelvin Sangroula</td>\n",
       "      <td>755</td>\n",
       "      <td>Design</td>\n",
       "    </tr>\n",
       "  </tbody>\n",
       "</table>\n",
       "<p>2263 rows × 4 columns</p>\n",
       "</div>"
      ],
      "text/plain": [
       "             KUCBT ID               Name  Score Program\n",
       "0        KUCAT_2023_1     Shreeyut Thapa   1224      CE\n",
       "1        KUCAT_2023_2     Kiyoshi Pandey    672      CE\n",
       "2        KUCAT_2023_3  Anmol Kumar Yadav    622     Geo\n",
       "3        KUCAT_2023_4    Shailesh Paudel    578      CE\n",
       "4        KUCAT_2023_5      Yubraj Panthi    674   Civil\n",
       "...               ...                ...    ...     ...\n",
       "2258  KUCAT_2023_3208       Sabin Shrees    578   Civil\n",
       "2259  KUCAT_2023_3210       Lajjita Bhaa    587    Arch\n",
       "2260  KUCAT_2023_3211        Anup Khanal    731      CE\n",
       "2261  KUCAT_2023_3212      Prasoon Dahal    821      CE\n",
       "2262  KUCAT_2023_3214   Kelvin Sangroula    755  Design\n",
       "\n",
       "[2263 rows x 4 columns]"
      ]
     },
     "execution_count": 3,
     "metadata": {},
     "output_type": "execute_result"
    }
   ],
   "source": [
    "df"
   ]
  },
  {
   "cell_type": "code",
   "execution_count": 6,
   "metadata": {},
   "outputs": [
    {
     "data": {
      "text/plain": [
       "count    2263.000000\n",
       "mean      765.477684\n",
       "std       181.408022\n",
       "min       528.000000\n",
       "25%       621.000000\n",
       "50%       729.000000\n",
       "75%       875.000000\n",
       "max      1637.000000\n",
       "Name: Score, dtype: float64"
      ]
     },
     "execution_count": 6,
     "metadata": {},
     "output_type": "execute_result"
    }
   ],
   "source": [
    "df[\"Score\"].describe()"
   ]
  },
  {
   "cell_type": "code",
   "execution_count": null,
   "metadata": {},
   "outputs": [],
   "source": []
  }
 ],
 "metadata": {
  "kernelspec": {
   "display_name": "Python 3",
   "language": "python",
   "name": "python3"
  },
  "language_info": {
   "codemirror_mode": {
    "name": "ipython",
    "version": 3
   },
   "file_extension": ".py",
   "mimetype": "text/x-python",
   "name": "python",
   "nbconvert_exporter": "python",
   "pygments_lexer": "ipython3",
   "version": "3.11.5"
  },
  "orig_nbformat": 4
 },
 "nbformat": 4,
 "nbformat_minor": 2
}
